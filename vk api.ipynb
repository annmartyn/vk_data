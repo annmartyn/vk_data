{
 "cells": [
  {
   "cell_type": "code",
   "execution_count": 1,
   "metadata": {},
   "outputs": [],
   "source": [
    "import sqlite3\n",
    "import requests\n",
    "from tqdm.auto import tqdm\n",
    "import pandas as pd\n",
    "from collections import Counter\n",
    "from nltk.corpus import stopwords\n",
    "from pymorphy2 import MorphAnalyzer\n",
    "morph = MorphAnalyzer()\n",
    "\n",
    "stops = set(stopwords.words('russian') + ['это', 'весь'])"
   ]
  },
  {
   "cell_type": "markdown",
   "metadata": {},
   "source": [
    "Откроем базу данных и создадим курсор."
   ]
  },
  {
   "cell_type": "code",
   "execution_count": 2,
   "metadata": {},
   "outputs": [],
   "source": [
    "con = sqlite3.connect('vk_api_pm.db')\n",
    "cur = con.cursor()"
   ]
  },
  {
   "cell_type": "markdown",
   "metadata": {},
   "source": [
    "Создадим таблицы в базу данных. Мне показалось, что с метаинформацией немного запутанно, не очень понятно, нужна ли метаинформация пользователя или комментария, поэтому я создаю три таблицы для экономии места: с комментариями, их айди и лемматизацией; с метаинформацией комментариев (айди, айди пользователя и количество ответов) и метаинформацией авторов комментариев (айди пользователя, дата рождения и город)."
   ]
  },
  {
   "cell_type": "code",
   "execution_count": 3,
   "metadata": {},
   "outputs": [
    {
     "data": {
      "text/plain": [
       "<sqlite3.Cursor at 0x11c53860>"
      ]
     },
     "execution_count": 3,
     "metadata": {},
     "output_type": "execute_result"
    }
   ],
   "source": [
    "cur.execute(\"\"\"\n",
    "CREATE TABLE comments (\n",
    "    comment_id INT, \n",
    "    text TEXT, \n",
    "    lemmatized_text TEXT,\n",
    "    PRIMARY KEY (comment_id)\n",
    ")\n",
    "\"\"\")"
   ]
  },
  {
   "cell_type": "code",
   "execution_count": 4,
   "metadata": {},
   "outputs": [
    {
     "data": {
      "text/plain": [
       "<sqlite3.Cursor at 0x11c53860>"
      ]
     },
     "execution_count": 4,
     "metadata": {},
     "output_type": "execute_result"
    }
   ],
   "source": [
    "cur.execute(\"\"\"\n",
    "CREATE TABLE comments_meta (\n",
    "    comment_id INT, \n",
    "    user_id INT,\n",
    "    comment_thread INT,\n",
    "    PRIMARY KEY (comment_id)\n",
    ")\n",
    "\"\"\")"
   ]
  },
  {
   "cell_type": "code",
   "execution_count": 5,
   "metadata": {},
   "outputs": [
    {
     "data": {
      "text/plain": [
       "<sqlite3.Cursor at 0x11c53860>"
      ]
     },
     "execution_count": 5,
     "metadata": {},
     "output_type": "execute_result"
    }
   ],
   "source": [
    "cur.execute(\"\"\"\n",
    "CREATE TABLE users (\n",
    "    user_id INT, \n",
    "    city TEXT,\n",
    "    sex TEXT,\n",
    "    PRIMARY KEY (user_id)\n",
    ")\n",
    "\"\"\")"
   ]
  },
  {
   "cell_type": "markdown",
   "metadata": {},
   "source": [
    "Запишем токен (здесь скрыт) и версию."
   ]
  },
  {
   "cell_type": "code",
   "execution_count": 13,
   "metadata": {},
   "outputs": [],
   "source": [
    "TOKEN = \"\"\n",
    "VERSION = \"5.130\""
   ]
  },
  {
   "cell_type": "code",
   "execution_count": 14,
   "metadata": {},
   "outputs": [],
   "source": [
    "wall_get_url = \"https://api.vk.com/method/wall.get\"\n",
    "get_comments_url = \"https://api.vk.com/method/wall.getComments\"\n",
    "users_get_url = \"https://api.vk.com/method/users.get\""
   ]
  },
  {
   "cell_type": "markdown",
   "metadata": {},
   "source": [
    "Скачаем информацию 1800 постов из одной группы (\"поиск мемов по описанию\"), чтобы потом доставать комментарии."
   ]
  },
  {
   "cell_type": "code",
   "execution_count": 15,
   "metadata": {},
   "outputs": [],
   "source": [
    "all_the_data = []\n",
    "offs = [0, 100, 200, 300, 400, 500, 600, 700, 800, 900, 1000, 1100, 1200, 1300, 1400, 1500, 1600, 1700]\n",
    "for off in offs:\n",
    "    data = requests.get(\n",
    "        wall_get_url, \n",
    "        params={\n",
    "            \"owner_id\": -166124324,\n",
    "            \"count\": 100,\n",
    "            \"v\": VERSION,\n",
    "            \"access_token\": TOKEN,\n",
    "            \"offset\": off, \n",
    "        }\n",
    "    ).json()\n",
    "    all_the_data.append(data)"
   ]
  },
  {
   "cell_type": "markdown",
   "metadata": {},
   "source": [
    "Создадим список айди этих постов и на всякий случай проверим количество."
   ]
  },
  {
   "cell_type": "code",
   "execution_count": 16,
   "metadata": {},
   "outputs": [
    {
     "name": "stdout",
     "output_type": "stream",
     "text": [
      "1800\n"
     ]
    }
   ],
   "source": [
    "post_ids = []\n",
    "for data in all_the_data:\n",
    "    for da in data['response']['items']:\n",
    "        post_ids.append(da['id'])\n",
    "    \n",
    "print(len(post_ids))"
   ]
  },
  {
   "cell_type": "markdown",
   "metadata": {},
   "source": [
    "Достанем всю информацию обо всех комментариях к этим постам."
   ]
  },
  {
   "cell_type": "code",
   "execution_count": null,
   "metadata": {},
   "outputs": [
    {
     "data": {
      "application/vnd.jupyter.widget-view+json": {
       "model_id": "d78910a9b6d64905a4db34c665372c61",
       "version_major": 2,
       "version_minor": 0
      },
      "text/plain": [
       "HBox(children=(FloatProgress(value=0.0, max=1800.0), HTML(value='')))"
      ]
     },
     "metadata": {},
     "output_type": "display_data"
    }
   ],
   "source": [
    "all_coms = []\n",
    "for post_id in tqdm(post_ids):\n",
    "    data_com = requests.get(\n",
    "        get_comments_url, \n",
    "        params={\n",
    "            \"owner_id\": -166124324,\n",
    "            \"post_id\": post_id,\n",
    "            \"v\": VERSION,\n",
    "            \"access_token\": TOKEN\n",
    "        }\n",
    "    ).json()\n",
    "    all_coms.append(data_com)"
   ]
  },
  {
   "cell_type": "markdown",
   "metadata": {},
   "source": [
    "Достанем id всех комментаторов, а потом подсчитаем количество комментариев у каждого и выберем сотню тех, кто написал 10+ (нужно не забыть убрать комментарии сообщества)."
   ]
  },
  {
   "cell_type": "code",
   "execution_count": null,
   "metadata": {},
   "outputs": [],
   "source": [
    "ids = []\n",
    "for a in all_coms:\n",
    "    for b in a['response']['items']:\n",
    "        if 'from_id' in b:\n",
    "            ids.append(b['from_id'])\n",
    "        else:\n",
    "            pass\n",
    "dicti = Counter(ids)\n",
    "needed_ids = []\n",
    "for d in dicti.most_common(101):\n",
    "    if str(d[0]).startswith('-'):\n",
    "        pass\n",
    "    else:\n",
    "        needed_ids.append(d[0])\n",
    "print(needed_ids)"
   ]
  },
  {
   "cell_type": "markdown",
   "metadata": {},
   "source": [
    "Сначала из всех комментариев к постам достанем те, которые написаны нужными пользователями (сотня тех, у кого есть хотя бы 10 комментариев), а потом достанем 10 комментариев от каждого из ста пользователей."
   ]
  },
  {
   "cell_type": "code",
   "execution_count": null,
   "metadata": {},
   "outputs": [],
   "source": [
    "all_n_coms = []\n",
    "for a in all_coms:\n",
    "    for b in a['response']['items']:\n",
    "        if 'from_id' in b:\n",
    "            if b['from_id'] in needed_ids:\n",
    "                all_n_coms.append(b)\n",
    "\n",
    "set_u_id = []\n",
    "set_c_id = []\n",
    "set_c_thread = []\n",
    "set_com = []\n",
    "for i in needed_ids:\n",
    "    counter = 0\n",
    "    for n in all_n_coms:\n",
    "        if n['from_id'] == i:\n",
    "            counter += 1\n",
    "            set_c_id.append(n['id'])\n",
    "            set_u_id.append(i)\n",
    "            set_c_thread.append(n['thread']['count'])\n",
    "            set_com.append(n['text'])\n",
    "            \n",
    "            if counter == 10:\n",
    "                break\n",
    "data = {'comment_id': set_c_id, 'user_id': set_u_id, 'comment_answers': set_c_thread, 'comment_text': set_com}\n",
    "full_df = pd.DataFrame(data)\n",
    "full_df"
   ]
  },
  {
   "cell_type": "markdown",
   "metadata": {},
   "source": [
    "Напишем функцию для лемматизации текста, а потом добавим новую колонку к таблице full_df"
   ]
  },
  {
   "cell_type": "code",
   "execution_count": null,
   "metadata": {},
   "outputs": [],
   "source": [
    "def lemmatize_text(original_text):\n",
    "    lem_text = str()\n",
    "    original_text.replace(',', '')\n",
    "    original_text.replace(')', '')\n",
    "    original_text.replace('(', '')\n",
    "    original_text.replace('.', '')\n",
    "    original_text.replace('\\n', '')\n",
    "    words = original_text.split(' ')\n",
    "    for word in words:\n",
    "        if word not in stops:\n",
    "            ana = morph.parse(word)\n",
    "            lemma = ana[0].normal_form\n",
    "            lem_text = lem_text + lemma + ' ' \n",
    "    return lem_text"
   ]
  },
  {
   "cell_type": "code",
   "execution_count": null,
   "metadata": {},
   "outputs": [],
   "source": [
    "full_df['lemmatized_text'] = full_df['comment_text'].apply(lemmatize_text)\n",
    "full_df"
   ]
  },
  {
   "cell_type": "markdown",
   "metadata": {},
   "source": [
    "Создадим из большой таблицы две разные - одну с метаинформацией, другую с текстами, а потом добавим их в базу данных."
   ]
  },
  {
   "cell_type": "code",
   "execution_count": null,
   "metadata": {},
   "outputs": [],
   "source": [
    "df1 = full_df.drop(['user_id', 'comment_answers'], axis=1)"
   ]
  },
  {
   "cell_type": "code",
   "execution_count": null,
   "metadata": {},
   "outputs": [],
   "source": [
    "df2 = full_df.drop(['comment_text', 'lemmatized_text'], axis=1)"
   ]
  },
  {
   "cell_type": "code",
   "execution_count": null,
   "metadata": {},
   "outputs": [],
   "source": [
    "to_db = list(df1.values.tolist()) \n",
    "cur.executemany(\"INSERT INTO comments VALUES (?, ?, ?)\", to_db)\n",
    "con.commit()"
   ]
  },
  {
   "cell_type": "code",
   "execution_count": null,
   "metadata": {},
   "outputs": [],
   "source": [
    "t_db = list(df2.values.tolist()) \n",
    "cur.executemany(\"INSERT INTO comments_meta VALUES (?, ?, ?)\", t_db)\n",
    "con.commit()"
   ]
  },
  {
   "cell_type": "markdown",
   "metadata": {},
   "source": [
    "Достанем всю информацию о сотне пользователей с нужными id и добавим её в список user_infos"
   ]
  },
  {
   "cell_type": "code",
   "execution_count": null,
   "metadata": {},
   "outputs": [],
   "source": [
    "user_infos = []\n",
    "for user_id in needed_ids:\n",
    "    user_info = requests.get(\n",
    "        users_get_url,\n",
    "        params={\n",
    "            'user_ids': user_id,\n",
    "            'fields': 'city,sex',\n",
    "            'access_token': TOKEN,\n",
    "            'v': VERSION\n",
    "        }\n",
    "    ).json()\n",
    "    user_infos.append(user_info)"
   ]
  },
  {
   "cell_type": "markdown",
   "metadata": {},
   "source": [
    "Достанем только необходимую информацию о каждом пользователе - id, пол и город."
   ]
  },
  {
   "cell_type": "code",
   "execution_count": null,
   "metadata": {},
   "outputs": [],
   "source": [
    "user_ids = []\n",
    "sex = []\n",
    "city = []\n",
    "for u_i in user_infos:\n",
    "    user_ids.append(u_i['response'][0]['id'])\n",
    "    if 'city' in u_i['response'][0]:\n",
    "        city.append(u_i['response'][0]['city']['title'])\n",
    "    else:\n",
    "        city.append('0')  \n",
    "    if u_i['response'][0]['sex'] == 1:\n",
    "        sex.append('female')\n",
    "    elif u_i['response'][0]['sex'] == 2:\n",
    "        sex.append('male')\n",
    "    \n",
    "                \n",
    "user_data = {'user_id': user_ids,  'city': city, 'sex': sex}\n",
    "user_df = pd.DataFrame(user_data)\n",
    "user_df"
   ]
  },
  {
   "cell_type": "markdown",
   "metadata": {},
   "source": [
    "Добавим таблицу с информацией  пользователях в базу данных. "
   ]
  },
  {
   "cell_type": "code",
   "execution_count": null,
   "metadata": {},
   "outputs": [],
   "source": [
    "t_d = list(user_df.values.tolist()) \n",
    "cur.executemany(\"INSERT INTO users VALUES (?, ?, ?)\", t_d)\n",
    "con.commit()"
   ]
  }
 ],
 "metadata": {
  "kernelspec": {
   "display_name": "Python 3",
   "language": "python",
   "name": "python3"
  },
  "language_info": {
   "codemirror_mode": {
    "name": "ipython",
    "version": 3
   },
   "file_extension": ".py",
   "mimetype": "text/x-python",
   "name": "python",
   "nbconvert_exporter": "python",
   "pygments_lexer": "ipython3",
   "version": "3.8.0"
  }
 },
 "nbformat": 4,
 "nbformat_minor": 4
}
